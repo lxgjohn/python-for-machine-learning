{
 "cells": [
  {
   "cell_type": "code",
   "execution_count": 1,
   "metadata": {},
   "outputs": [],
   "source": [
    "import numpy as np\n",
    "import pandas as pd"
   ]
  },
  {
   "cell_type": "code",
   "execution_count": 2,
   "metadata": {},
   "outputs": [
    {
     "data": {
      "text/plain": [
       "2    50\n",
       "0    49\n",
       "1    48\n",
       "Name: 4, dtype: int64"
      ]
     },
     "execution_count": 2,
     "metadata": {},
     "output_type": "execute_result"
    }
   ],
   "source": [
    "data = pd.read_csv(r\"iris.data.csv\", header = None)\n",
    "# 返回前n行的数据，默认是5行，返回行数的参数可以自己设定。\n",
    "# data.head()\n",
    "# 返回最后n行的数据，默认是5行，返回行数的参数可以自己设定。\n",
    "# data.tail()\n",
    "#随机返回数据中的一行内容，默认是1行，参数可以自己设定。\n",
    "# data.sample(10)\n",
    "# 将类别文本映射成数字类型。如果没有标题行，则此方法使用数据的列数【4】来操作。\n",
    "data[4] = data[4].map({\"Iris-virginica\":0, \"Iris-setosa\":1, \"Iris-versicolor\":2})\n",
    "# 删除某一列的数据，如果想在原样本上操作，就将inplace参数设置成inplace。\n",
    "# data.drop(0, axis = 1, inplace=True)\n",
    "# 查看数据的条数\n",
    "# len(data)\n",
    "# 检查是否有重复的记录\n",
    "# data.duplicated().any()\n",
    "# 删除重复的记录\n",
    "data.drop_duplicates(inplace = True)\n",
    "# len(data)\n",
    "# 查看各个类别鸢尾花有多少条记录。\n",
    "data[4].value_counts()"
   ]
  },
  {
   "cell_type": "code",
   "execution_count": 50,
   "metadata": {},
   "outputs": [],
   "source": [
    "class KNN:\n",
    "    '''使用python语言实现k近邻算法。（实现分类）'''\n",
    "    \n",
    "    def __init__(self, k):\n",
    "        '''初始化方法。\n",
    "        \n",
    "        Parameters：\n",
    "        -----\n",
    "        k：int\n",
    "            邻居的个数\n",
    "        '''\n",
    "        \n",
    "        self.k = k\n",
    "        \n",
    "    def fit(self, X, y):\n",
    "        '''训练方法。\n",
    "        \n",
    "        Parameters：\n",
    "        -----\n",
    "        X：类数组类型。形状为[样本数量，特征数量]\n",
    "            待训练的样本特征。（属性）\n",
    "        \n",
    "        y：类数组类型。形状为[样本数量]\n",
    "            每个样本的目标值。（标签）\n",
    "        '''\n",
    "        #将X转换成ndarray数组类型。\n",
    "        self.X = np.asarray(X)\n",
    "        self.y = np.asarray(y)\n",
    "        \n",
    "    def predict(self, X):\n",
    "        '''根据参数传递的样本，对样本数据进行预测。\n",
    "        \n",
    "        Parameters：\n",
    "        -----\n",
    "        X：类数组类型。形状为[样本数量，特征数量]\n",
    "            待训练的样本特征。（属性）\n",
    "        \n",
    "        Returns\n",
    "        -----\n",
    "        result：数组类型\n",
    "            预测结果。\n",
    "            \n",
    "        '''\n",
    "        \n",
    "        X = np.asarray(X)\n",
    "        result = []\n",
    "        #对ndarray数组进行遍历，每次取出数组中的一行。\n",
    "        for x in X:\n",
    "            #对测试集中的每一个样本，依次与训练集中的所有样本求距离。\n",
    "            # x ** 2 表示x的平方，np.sum() 是将数据中的值求和、axis用于控制按行进行求和， np.sqrt()用于求开方运算\n",
    "            dis = np.sqrt(np.sum((x - self.X) ** 2, axis=1))\n",
    "            #返回排序（从小到大排）后，每个元素在原数组中（排序之前的数组）的索引。\n",
    "            index = dis.argsort()\n",
    "            #进行截断，取前k个元素。【距离最近的k个元素的索引】\n",
    "            index = index[:self.k]\n",
    "            #返回数组中元素的个数。（元素必须是非负的整数）\n",
    "            count = np.bincount(self.y[index])\n",
    "            #返回ndarry数组中，值最大的元素对应的索引。该索引就是我们的预测的类别。\n",
    "            result.append(count.argmax())\n",
    "        return np.asarray(result)\n",
    "    \n",
    "    def predict2(self, X):\n",
    "        '''根据参数传递的样本，对样本数据进行预测。\n",
    "        \n",
    "        Parameters：\n",
    "        -----\n",
    "        X：类数组类型。形状为[样本数量，特征数量]\n",
    "            待训练的样本特征。（属性）\n",
    "        \n",
    "        Returns\n",
    "        -----\n",
    "        result：数组类型\n",
    "            预测结果。\n",
    "            \n",
    "        '''\n",
    "        \n",
    "        X = np.asarray(X)\n",
    "        result = []\n",
    "        #对ndarray数组进行遍历，每次取出数组中的一行。\n",
    "        for x in X:\n",
    "            #对测试集中的每一个样本，依次与训练集中的所有样本求距离。\n",
    "            # x ** 2 表示x的平方，np.sum() 是将数据中的值求和、axis用于控制按行进行求和， np.sqrt()用于求开方运算\n",
    "            dis = np.sqrt(np.sum((x - self.X) ** 2, axis=1))\n",
    "            #返回排序（从小到大排）后，每个元素在原数组中（排序之前的数组）的索引。\n",
    "            index = dis.argsort()\n",
    "            #进行截断，取前k个元素。【距离最近的k个元素的索引】\n",
    "            index = index[:self.k]\n",
    "            #返回数组中元素的个数。（元素必须是非负的整数）[考虑权重weights再进行测试]\n",
    "            count = np.bincount(self.y[index],weights = 1/dis[index])\n",
    "            #返回ndarry数组中，值最大的元素对应的索引。该索引就是我们的预测的类别。\n",
    "            result.append(count.argmax())\n",
    "        return np.asarray(result)"
   ]
  },
  {
   "cell_type": "code",
   "execution_count": 60,
   "metadata": {},
   "outputs": [
    {
     "data": {
      "text/plain": [
       "26"
      ]
     },
     "metadata": {},
     "output_type": "display_data"
    },
    {
     "data": {
      "text/plain": [
       "0.9629629629629629"
      ]
     },
     "metadata": {},
     "output_type": "display_data"
    }
   ],
   "source": [
    "#提取每个类别鸢尾花的数据。\n",
    "t0 = data[data[4] == 0]\n",
    "t1 = data[data[4] == 1]\n",
    "t2 = data[data[4] == 2]\n",
    "#将每个类别的数据重新随机排序。random_state=0用于确保每一次随机排序的状态只要是0 就是一样的随机排序。\n",
    "t0 = t0.sample(len(t0), random_state=0)\n",
    "t1 = t1.sample(len(t1), random_state=0)\n",
    "t2 = t2.sample(len(t2), random_state=0)\n",
    "#构建训练集和测试集。\n",
    "#pd.concat用来拼接数据、axis=0表示用纵向的方式拼接。 iloc用于取索引对应的值【行，列】、列用-1表示最后一行。\n",
    "train_X = pd.concat([t0.iloc[:40, :-1], t1.iloc[:40, :-1], t2.iloc[:40, :-1]], axis=0)\n",
    "train_y = pd.concat([t0.iloc[:40, -1], t1.iloc[:40, -1], t2.iloc[:40, -1]], axis=0)\n",
    "test_X = pd.concat([t0.iloc[40:, :-1], t1.iloc[40:, :-1], t2.iloc[40:, :-1]], axis=0)\n",
    "test_y = pd.concat([t0.iloc[40:, -1], t1.iloc[40:, -1], t2.iloc[40:, -1]], axis=0)\n",
    "#创建KNN的对象进行训练和测试。\n",
    "knn = KNN(k=3)\n",
    "#进行训练。\n",
    "knn.fit(train_X, train_y)\n",
    "#进行测试，获得测试结果。\n",
    "result = knn.predict(test_X)\n",
    "#展示预测结果，display方法对ndarray数组的支持比print好。\n",
    "#展示结果时result == test_y返回每个位置对比的结果，用sum求和可以（True是1，False是0）来算比例。\n",
    "display(np.sum(result == test_y))\n",
    "display(np.sum(result == test_y)/len(result))"
   ]
  },
  {
   "cell_type": "code",
   "execution_count": 61,
   "metadata": {},
   "outputs": [
    {
     "data": {
      "text/plain": [
       "26"
      ]
     },
     "metadata": {},
     "output_type": "display_data"
    },
    {
     "data": {
      "text/plain": [
       "0.9629629629629629"
      ]
     },
     "metadata": {},
     "output_type": "display_data"
    }
   ],
   "source": [
    "#考虑权重的情况下，进行测试集的预测。\n",
    "result2 = knn.predict2(test_X)\n",
    "display(np.sum(result2 == test_y))\n",
    "display(np.sum(result2 == test_y)/len(result2))"
   ]
  },
  {
   "cell_type": "code",
   "execution_count": 40,
   "metadata": {},
   "outputs": [],
   "source": [
    "import matplotlib as mpl\n",
    "import matplotlib.pyplot as plt"
   ]
  },
  {
   "cell_type": "code",
   "execution_count": 41,
   "metadata": {},
   "outputs": [],
   "source": [
    "#默认情况下matplotlib不支持中文显示，需要先设置下参数\n",
    "\n",
    "#设置字体为黑体，以支持中文显示。\n",
    "mpl.rcParams[\"font.family\"] = \"SimHei\"\n",
    "#设置中文字体时，确保显示正确的负号（-）。\n",
    "mpl.rcParams[\"axes.unicode_minus\"] = False"
   ]
  },
  {
   "cell_type": "code",
   "execution_count": 42,
   "metadata": {},
   "outputs": [
    {
     "data": {
      "image/png": "[encoded data removed]",
      "text/plain": [
       "<Figure size 720x720 with 1 Axes>"
      ]
     },
     "metadata": {
      "needs_background": "light"
     },
     "output_type": "display_data"
    }
   ],
   "source": [
    "# \"Iris-virginica\":0, \"Iris-setosa\":1, \"Iris-versicolor\":2\n",
    "#设置画布的大小\n",
    "plt.figure(figsize=(10,10))\n",
    "#绘制训练集数据\n",
    "#color用于控制图中点的颜色、label为图例\n",
    "plt.scatter(x=t0[0][:40], y=t0[2][:40], color=\"r\", label=\"Iris-virginica\")\n",
    "plt.scatter(x=t1[0][:40], y=t1[2][:40], color=\"g\", label=\"Iris-setosa\")\n",
    "plt.scatter(x=t2[0][:40], y=t2[2][:40], color=\"b\", label=\"Iris-versicolor\")\n",
    "#绘制测试集数据\n",
    "#将预测正确的样本存到right中\n",
    "right = test_X[result == test_y]\n",
    "wrong = test_X[result != test_y]\n",
    "#marker表示图中展示点的样式\n",
    "plt.scatter(x=right[0][:40], y=right[2][:40], color=\"c\", marker=\"x\", label=\"right\")\n",
    "plt.scatter(x=wrong[0][:40], y=wrong[2][:40], color=\"m\", marker=\">\", label=\"wrong\")\n",
    "#x轴、y轴、标题的名称的设置\n",
    "plt.xlabel(\"花萼的长度\")\n",
    "plt.ylabel(\"花瓣的长度\")\n",
    "plt.title(\"鸢尾花的KNN分类结果\")\n",
    "#图例位置的选择，best即最合适的位置。可以自行设置left、right等。\n",
    "plt.legend(loc=\"best\")\n",
    "plt.show()"
   ]
  }
 ],
 "metadata": {
  "kernelspec": {
   "display_name": "Python 3",
   "language": "python",
   "name": "python3"
  },
  "language_info": {
   "codemirror_mode": {
    "name": "ipython",
    "version": 3
   },
   "file_extension": ".py",
   "mimetype": "text/x-python",
   "name": "python",
   "nbconvert_exporter": "python",
   "pygments_lexer": "ipython3",
   "version": "3.7.1"
  }
 },
 "nbformat": 4,
 "nbformat_minor": 2
}
