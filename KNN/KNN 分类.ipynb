{
 "cells": [
  {
   "cell_type": "code",
   "execution_count": 2,
   "metadata": {},
   "outputs": [],
   "source": [
    "import numpy as np\n",
    "import pandas as pd"
   ]
  },
  {
   "cell_type": "code",
   "execution_count": 3,
   "metadata": {},
   "outputs": [
    {
     "data": {
      "text/plain": [
       "2    50\n",
       "0    49\n",
       "1    48\n",
       "Name: 4, dtype: int64"
      ]
     },
     "execution_count": 3,
     "metadata": {},
     "output_type": "execute_result"
    }
   ],
   "source": [
    "data = pd.read_csv(r\"iris.data.csv\", header = None)\n",
    "# 返回前n行的数据，默认是5行，返回行数的参数可以自己设定。\n",
    "# data.head()\n",
    "# 返回最后n行的数据，默认是5行，返回行数的参数可以自己设定。\n",
    "# data.tail()\n",
    "#随机返回数据中的一行内容，默认是1行，参数可以自己设定。\n",
    "# data.sample(10)\n",
    "# 将类别文本映射成数字类型。如果没有标题行，则此方法使用数据的列数【4】来操作。\n",
    "data[4] = data[4].map({\"Iris-virginica\":0, \"Iris-setosa\":1, \"Iris-versicolor\":2})\n",
    "# 删除某一列的数据，如果想在原样本上操作，就将inplace参数设置成inplace。\n",
    "# data.drop(0, axis = 1, inplace=True)\n",
    "# 查看数据的条数\n",
    "# len(data)\n",
    "# 检查是否有重复的记录\n",
    "# data.duplicated().any()\n",
    "# 删除重复的记录\n",
    "data.drop_duplicates(inplace = True)\n",
    "# len(data)\n",
    "# 查看各个类别鸢尾花有多少条记录。\n",
    "data[4].value_counts()"
   ]
  },
  {
   "cell_type": "code",
   "execution_count": null,
   "metadata": {},
   "outputs": [],
   "source": []
  },
  {
   "cell_type": "code",
   "execution_count": null,
   "metadata": {},
   "outputs": [],
   "source": []
  }
 ],
 "metadata": {
  "kernelspec": {
   "display_name": "Python 3",
   "language": "python",
   "name": "python3"
  },
  "language_info": {
   "codemirror_mode": {
    "name": "ipython",
    "version": 3
   },
   "file_extension": ".py",
   "mimetype": "text/x-python",
   "name": "python",
   "nbconvert_exporter": "python",
   "pygments_lexer": "ipython3",
   "version": "3.7.1"
  }
 },
 "nbformat": 4,
 "nbformat_minor": 2
}
