{
  "nbformat": 4,
  "nbformat_minor": 0,
  "metadata": {
    "colab": {
      "name": "逻辑回归.ipynb",
      "version": "0.3.2",
      "provenance": [],
      "collapsed_sections": []
    },
    "kernelspec": {
      "name": "python3",
      "display_name": "Python 3"
    }
  },
  "cells": [
    {
      "metadata": {
        "id": "Gkumx1fyl33P",
        "colab_type": "code",
        "colab": {}
      },
      "cell_type": "code",
      "source": [
        "import numpy as np\n",
        "import pandas as pd"
      ],
      "execution_count": 0,
      "outputs": []
    },
    {
      "metadata": {
        "id": "9TsRGxU-dI_1",
        "colab_type": "code",
        "colab": {}
      },
      "cell_type": "code",
      "source": [
        "data = pd.read_csv(\"./drive/dataset/Iris.csv\")\n",
        "# data\n",
        "# 去掉不需要的 ID 列\n",
        "data.drop(\"Id\", axis=1, inplace=True)\n",
        "# 删除重复的记录值\n",
        "data.drop_duplicates(inplace=True)\n",
        "# 将花名替换成数值Iris-versicolor  Iris-setosa  Iris-virginica\n",
        "# 使用map方法传入替换后的map{数据}\n",
        "data[\"Species\"] = data[\"Species\"].map({\"Iris-versicolor\":0, \"Iris-setosa\":1, \"Iris-virginica\":2})\n",
        "# 本次使用逻辑回归实现二分类，只选用0，1的鸢尾花数据进行实践\n",
        "data = data[data[\"Species\"] != 2]\n",
        "# 抽样展示数据\n",
        "# display(data.sample(10))\n",
        "# 检查剩下的数据量\n",
        "# len(data)"
      ],
      "execution_count": 0,
      "outputs": []
    },
    {
      "metadata": {
        "id": "a1gAhkM6hoyA",
        "colab_type": "code",
        "colab": {}
      },
      "cell_type": "code",
      "source": [
        "class LogisticRegression:\n",
        "  \"\"\"使用python语言实现逻辑回归算法。\"\"\"\n",
        "  \n",
        "  def __init__(self, alpha, times):\n",
        "    \"\"\"初始化方法。\n",
        "    \n",
        "    Parameters\n",
        "    ----\n",
        "    alpha：float\n",
        "      学习率。\n",
        "      \n",
        "    times：int\n",
        "      迭代次数。\n",
        "    \"\"\"\n",
        "    self.alpha = alpha\n",
        "    self.times = times \n",
        "    \n",
        "  def sigmod(self, z):\n",
        "    \"\"\"sigmod函数的实现。\n",
        "    \n",
        "    Parameters\n",
        "    ----\n",
        "    z：float\n",
        "      自变量，值为z = w.T * x\n",
        "    \n",
        "    Returns\n",
        "    ----\n",
        "    P：float，值为【0，1】之间。\n",
        "        返回样本属于类别1的概率值，用来作为结果的预测。\n",
        "        当s >= 0.5（z >= 0）时，判断为类别1，否则判定为类别0。\n",
        "    \"\"\"\n",
        "    return 1.0 / (1.0 + np.exp(-z))\n",
        "  \n",
        "  def fit(self, X, y):\n",
        "    \"\"\"根据提供的训练数据，对模型进行训练。\n",
        "    \n",
        "    Parameters\n",
        "    ----\n",
        "    X ： 类数组类型。形状为：【样本数量， 特征数量】\n",
        "      待训练的样本特征属性。\n",
        "    \n",
        "    y ： 类数组类型。形状为：【样本数量】\n",
        "      每个样本的目标值。（标签）\n",
        "    \"\"\"\n",
        "    X = np.array(X)\n",
        "    y = np.array(y)\n",
        "    # 创建权重的向量，初始值为0，长度比特征数多1。（多出来的一个为截距）\n",
        "    self.w_ = np.zeros(1 + X.shape[1])\n",
        "    # 创建损失列表，用来保存每次迭代后的损失值。\n",
        "    self.loss_ = []\n",
        "    \n",
        "    for i in range (self.times):\n",
        "      # 点积，矩阵的乘法\n",
        "      z = np.dot(X, self.w_[1:]) + self.w_[0]\n",
        "      # 计算概率值（结果判定为1的概率值）\n",
        "      p = self.sigmod(z)\n",
        "      # 使用逻辑回归的代价函数（目标函数），计算损失值。\n",
        "      # 逻辑回归的代价函数（目标函数）\n",
        "      # J(w) = -sum(yi * log(s(zi) + (1 - yi) * log(1-s(zi)))) [i从1到n，n为样本的数量]\n",
        "      cost = -np.sum(y * np.log(p) + (1 - y) * np.log(1 - p))\n",
        "      self.loss_.append(cost)\n",
        "      \n",
        "      # 调整权重值， 根据公式调整为： 权重（j列）= 权重（j列） + 学习率 * sum（（y - s(z)） * x(j)）\n",
        "      self.w_[0] += self.alpha * np.sum(y - p)\n",
        "      self.w_[1:] += self.alpha * np.dot(X.T, y - p)\n",
        "    \n",
        "  def predict_proba(self, X):\n",
        "    \"\"\"根据参数传递的样本，对样本数据进行预测。\n",
        "\n",
        "    Parameters\n",
        "    -----\n",
        "    X ： 类数组类型。形状为：【样本数量， 特征数量】\n",
        "      待训练的样本特征属性。\n",
        "\n",
        "    Returns\n",
        "    -----\n",
        "    result ： 数组类型\n",
        "      预测结果（概率值）\n",
        "    \"\"\"\n",
        "    X = np.asarray(X)\n",
        "    z = np.dot(X, self.w_[1:]) + self.w_[0]\n",
        "    p = self.sigmod(z)\n",
        "    # 将预测结果变成二维数组（结构）。便于后续拼接。\n",
        "    p = p.reshape(-1, 1)\n",
        "    # 将两个数组进行拼接。方向为横向拼接。\n",
        "    return np.concatenate([1 - p, p], axis=1)\n",
        "\n",
        "  def predict(self, X):\n",
        "    \"\"\"根据参数传递的样本，对样本数据进行预测。\n",
        "\n",
        "    Parameters\n",
        "    -----\n",
        "    X ： 类数组类型。形状为：【样本数量， 特征数量】\n",
        "      待训练的样本特征属性。\n",
        "\n",
        "    Returns\n",
        "    -----\n",
        "    result ： 数组类型\n",
        "      预测结果（分类值）\n",
        "    \"\"\"\n",
        "    return np.argmax(self.predict_proba(X), axis=1)"
      ],
      "execution_count": 0,
      "outputs": []
    },
    {
      "metadata": {
        "id": "4xuoginRuOJU",
        "colab_type": "code",
        "colab": {
          "base_uri": "https://localhost:8080/",
          "height": 34
        },
        "outputId": "f50fafe6-6c85-4bbb-ccec-c86e45e66cf3"
      },
      "cell_type": "code",
      "source": [
        "t1 = data[data[\"Species\"] == 0]\n",
        "t2 = data[data[\"Species\"] == 1]\n",
        "t1 = t1.sample(len(t1), random_state=0)\n",
        "t2 = t2.sample(len(t2), random_state=0)\n",
        "\n",
        "train_X = pd.concat([t1.iloc[:40, :-1], t2.iloc[:40, :-1]], axis=0)\n",
        "train_y = pd.concat([t1.iloc[:40, -1], t2.iloc[:40, -1]], axis=0)\n",
        "test_X = pd.concat([t1.iloc[40:, :-1], t2.iloc[40:, :-1]], axis=0)\n",
        "test_y = pd.concat([t1.iloc[40:, -1], t2.iloc[40:, -1]], axis=0)\n",
        "\n",
        "# 鸢尾花的特征列都在同一个数量级，不需要进行标准化处理。\n",
        "lr = LogisticRegression(alpha=0.01, times=20)\n",
        "lr.fit(train_X, train_y)\n",
        "# 预测分类值\n",
        "result = lr.predict(test_X)\n",
        "# 计算准确性\n",
        "np.sum((result == test_y) / len(test_y))"
      ],
      "execution_count": 14,
      "outputs": [
        {
          "output_type": "execute_result",
          "data": {
            "text/plain": [
              "1.0"
            ]
          },
          "metadata": {
            "tags": []
          },
          "execution_count": 14
        }
      ]
    },
    {
      "metadata": {
        "id": "NeRRW6x1wRfB",
        "colab_type": "code",
        "colab": {}
      },
      "cell_type": "code",
      "source": [
        "import matplotlib as mpl\n",
        "import matplotlib.pyplot as plt\n",
        "mpl.rcParams[\"font.family\"] = \"SimHei\"\n",
        "mpl.rcParams[\"axes.unicode_minus\"] = False"
      ],
      "execution_count": 0,
      "outputs": []
    },
    {
      "metadata": {
        "id": "AOLolQqdxGY8",
        "colab_type": "code",
        "colab": {
          "base_uri": "https://localhost:8080/",
          "height": 295
        },
        "outputId": "9de93148-52b1-40e6-beba-247a5e4d5d3b"
      },
      "cell_type": "code",
      "source": [
        "# 绘制预测值\n",
        "plt.plot(result, \"ro\", ms=15, label=\"预测值\")\n",
        "# 绘制真实值\n",
        "plt.plot(test_y.values, \"go\", label=\"真实值\")\n",
        "plt.title(\"逻辑回归\")\n",
        "plt.xlabel(\"样本序号\")\n",
        "plt.ylabel(\"类别\")\n",
        "plt.legend()\n",
        "plt.show()"
      ],
      "execution_count": 23,
      "outputs": [
        {
          "output_type": "display_data",
          "data": {
            "image/png": "[encoded data removed]",
            "text/plain": [
              "<Figure size 432x288 with 1 Axes>"
            ]
          },
          "metadata": {
            "tags": []
          }
        }
      ]
    },
    {
      "metadata": {
        "id": "rSu1cqQmx7GX",
        "colab_type": "code",
        "colab": {
          "base_uri": "https://localhost:8080/",
          "height": 286
        },
        "outputId": "882d8baa-db39-4606-99be-ae01ad22dd37"
      },
      "cell_type": "code",
      "source": [
        "# 绘制目标函数的损失值\n",
        "plt.plot(range(1, lr.times + 1), lr.loss_, \"go-\")"
      ],
      "execution_count": 24,
      "outputs": [
        {
          "output_type": "execute_result",
          "data": {
            "text/plain": [
              "[<matplotlib.lines.Line2D at 0x7f0fa301b390>]"
            ]
          },
          "metadata": {
            "tags": []
          },
          "execution_count": 24
        },
        {
          "output_type": "display_data",
          "data": {
            "image/png": "[encoded data removed]",
            "text/plain": [
              "<Figure size 432x288 with 1 Axes>"
            ]
          },
          "metadata": {
            "tags": []
          }
        }
      ]
    }
  ]
}